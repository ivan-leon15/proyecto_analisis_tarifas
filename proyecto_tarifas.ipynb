{
 "cells": [
  {
   "cell_type": "markdown",
   "metadata": {
    "id": "3rYiDeEH0q0f"
   },
   "source": [
    "# ¿Cuál es la mejor tarifa?\n",
    "\n",
    "Trabajas como analista para el operador de telecomunicaciones Megaline. La empresa ofrece a sus clientes dos tarifas de prepago, Surf y Ultimate. El departamento comercial quiere saber cuál de las tarifas genera más ingresos para poder ajustar el presupuesto de publicidad.\n",
    "\n",
    "Vas a realizar un análisis preliminar de las tarifas basado en una selección de clientes relativamente pequeña. Tendrás los datos de 500 clientes de Megaline: quiénes son los clientes, de dónde son, qué tarifa usan, así como la cantidad de llamadas que hicieron y los mensajes de texto que enviaron en 2018. Tu trabajo es analizar el comportamiento de los clientes y determinar qué tarifa de prepago genera más ingresos."
   ]
  },
  {
   "cell_type": "markdown",
   "metadata": {
    "id": "MQi4IPy70q0y"
   },
   "source": [
    "## Inicialización"
   ]
  },
  {
   "cell_type": "code",
   "execution_count": 1,
   "metadata": {
    "id": "MtYIuBxu0q0z"
   },
   "outputs": [],
   "source": [
    "# Cargar todas las librerías\n",
    "import pandas as pd \n",
    "from math import factorial\n",
    "import numpy as np\n",
    "from matplotlib import pyplot as plt\n",
    "import seaborn as sns\n",
    "import scipy.stats as stats"
   ]
  },
  {
   "cell_type": "markdown",
   "metadata": {
    "id": "4ysWWC5i0q00"
   },
   "source": [
    "## Cargar datos"
   ]
  },
  {
   "cell_type": "code",
   "execution_count": 2,
   "metadata": {
    "id": "CCqPW7rS0q01"
   },
   "outputs": [],
   "source": [
    "# Carga los archivos de datos en diferentes DataFrames\n",
    "\n",
    "df_calls = pd.read_csv('/datasets/megaline_calls.csv')\n",
    "df_internet = pd.read_csv('/datasets/megaline_internet.csv')\n",
    "df_messages = pd.read_csv('/datasets/megaline_messages.csv')\n",
    "df_plans = pd.read_csv('/datasets/megaline_plans.csv')\n",
    "df_users = pd.read_csv('/datasets/megaline_users.csv')"
   ]
  },
  {
   "cell_type": "markdown",
   "metadata": {
    "id": "69qqoJ3r0q01"
   },
   "source": [
    "## Preparar los datos"
   ]
  },
  {
   "cell_type": "markdown",
   "metadata": {
    "id": "ohBhimvH0q01"
   },
   "source": [
    "## Tarifas"
   ]
  },
  {
   "cell_type": "code",
   "execution_count": 3,
   "metadata": {
    "id": "GptqP3Q40q02"
   },
   "outputs": [
    {
     "name": "stdout",
     "output_type": "stream",
     "text": [
      "<class 'pandas.core.frame.DataFrame'>\n",
      "RangeIndex: 2 entries, 0 to 1\n",
      "Data columns (total 8 columns):\n",
      " #   Column                 Non-Null Count  Dtype  \n",
      "---  ------                 --------------  -----  \n",
      " 0   messages_included      2 non-null      int64  \n",
      " 1   mb_per_month_included  2 non-null      int64  \n",
      " 2   minutes_included       2 non-null      int64  \n",
      " 3   usd_monthly_pay        2 non-null      int64  \n",
      " 4   usd_per_gb             2 non-null      int64  \n",
      " 5   usd_per_message        2 non-null      float64\n",
      " 6   usd_per_minute         2 non-null      float64\n",
      " 7   plan_name              2 non-null      object \n",
      "dtypes: float64(2), int64(5), object(1)\n",
      "memory usage: 256.0+ bytes\n"
     ]
    }
   ],
   "source": [
    "# Imprime la información general/resumida sobre el DataFrame de las tarifas\n",
    "\n",
    "df_plans.info()\n",
    "\n"
   ]
  },
  {
   "cell_type": "code",
   "execution_count": 4,
   "metadata": {
    "id": "64xzjwL70q02"
   },
   "outputs": [
    {
     "name": "stdout",
     "output_type": "stream",
     "text": [
      "   messages_included  mb_per_month_included  minutes_included  \\\n",
      "0                 50                  15360               500   \n",
      "1               1000                  30720              3000   \n",
      "\n",
      "   usd_monthly_pay  usd_per_gb  usd_per_message  usd_per_minute plan_name  \n",
      "0               20          10             0.03            0.03      surf  \n",
      "1               70           7             0.01            0.01  ultimate  \n"
     ]
    }
   ],
   "source": [
    "# Imprime una muestra de los datos para las tarifas\n",
    "\n",
    "print(df_plans.head())"
   ]
  },
  {
   "cell_type": "markdown",
   "metadata": {
    "id": "mEc_3_hs0q02"
   },
   "source": [
    "\n",
    "No se encuentra ningun problema en esta tabla, los datos se muestran correctos y los tipos de datos para cada columna son adecuados"
   ]
  },
  {
   "cell_type": "markdown",
   "metadata": {
    "id": "R3C05i1l0q03"
   },
   "source": [
    "## Corregir datos"
   ]
  },
  {
   "cell_type": "markdown",
   "metadata": {
    "id": "LJir7bml0q03"
   },
   "source": [
    "## Enriquecer los datos"
   ]
  },
  {
   "cell_type": "markdown",
   "metadata": {
    "id": "1n2X6WXf0q04"
   },
   "source": [
    "## Usuarios/as"
   ]
  },
  {
   "cell_type": "code",
   "execution_count": 5,
   "metadata": {
    "id": "2NgjWFqx0q05"
   },
   "outputs": [
    {
     "name": "stdout",
     "output_type": "stream",
     "text": [
      "<class 'pandas.core.frame.DataFrame'>\n",
      "RangeIndex: 500 entries, 0 to 499\n",
      "Data columns (total 8 columns):\n",
      " #   Column      Non-Null Count  Dtype \n",
      "---  ------      --------------  ----- \n",
      " 0   user_id     500 non-null    int64 \n",
      " 1   first_name  500 non-null    object\n",
      " 2   last_name   500 non-null    object\n",
      " 3   age         500 non-null    int64 \n",
      " 4   city        500 non-null    object\n",
      " 5   reg_date    500 non-null    object\n",
      " 6   plan        500 non-null    object\n",
      " 7   churn_date  34 non-null     object\n",
      "dtypes: int64(2), object(6)\n",
      "memory usage: 31.4+ KB\n"
     ]
    }
   ],
   "source": [
    "# Imprime la información general/resumida sobre el DataFrame de usuarios\n",
    "\n",
    "df_users.info()"
   ]
  },
  {
   "cell_type": "code",
   "execution_count": 6,
   "metadata": {
    "id": "1IN1L9uh0q05"
   },
   "outputs": [
    {
     "name": "stdout",
     "output_type": "stream",
     "text": [
      "   user_id first_name  last_name  age                                   city  \\\n",
      "0     1000   Anamaria      Bauer   45  Atlanta-Sandy Springs-Roswell, GA MSA   \n",
      "1     1001     Mickey  Wilkerson   28        Seattle-Tacoma-Bellevue, WA MSA   \n",
      "2     1002     Carlee    Hoffman   36   Las Vegas-Henderson-Paradise, NV MSA   \n",
      "3     1003   Reynaldo    Jenkins   52                          Tulsa, OK MSA   \n",
      "4     1004    Leonila   Thompson   40        Seattle-Tacoma-Bellevue, WA MSA   \n",
      "\n",
      "     reg_date      plan churn_date  \n",
      "0  2018-12-24  ultimate        NaN  \n",
      "1  2018-08-13      surf        NaN  \n",
      "2  2018-10-21      surf        NaN  \n",
      "3  2018-01-28      surf        NaN  \n",
      "4  2018-05-23      surf        NaN  \n"
     ]
    }
   ],
   "source": [
    "\n",
    "\n",
    "print(df_users.head())"
   ]
  },
  {
   "cell_type": "markdown",
   "metadata": {
    "id": "dCZoUq4f0q06"
   },
   "source": [
    "La columna con las fechas de suscripción no cuenta con el tipo de dato correspondiente, tendría que ser de tipo datetime, igualmente hay datos NaN en la columna de churn_date.\n",
    "En este caso para poder solucionarlo se necesita cambiar el tipo de dato de reg_date utilizando el método to_datetime y reemplazar los valores NaN con el método fillna"
   ]
  },
  {
   "cell_type": "markdown",
   "metadata": {
    "id": "BX5FQh_I0q06"
   },
   "source": [
    "### Corregir los datos"
   ]
  },
  {
   "cell_type": "code",
   "execution_count": 7,
   "metadata": {
    "id": "yUqX-K0C0q07"
   },
   "outputs": [
    {
     "name": "stdout",
     "output_type": "stream",
     "text": [
      "<class 'pandas.core.frame.DataFrame'>\n",
      "RangeIndex: 500 entries, 0 to 499\n",
      "Data columns (total 8 columns):\n",
      " #   Column      Non-Null Count  Dtype         \n",
      "---  ------      --------------  -----         \n",
      " 0   user_id     500 non-null    int64         \n",
      " 1   first_name  500 non-null    object        \n",
      " 2   last_name   500 non-null    object        \n",
      " 3   age         500 non-null    int64         \n",
      " 4   city        500 non-null    object        \n",
      " 5   reg_date    500 non-null    datetime64[ns]\n",
      " 6   plan        500 non-null    object        \n",
      " 7   churn_date  500 non-null    object        \n",
      "dtypes: datetime64[ns](1), int64(2), object(5)\n",
      "memory usage: 31.4+ KB\n"
     ]
    }
   ],
   "source": [
    "#Se realiza la corrección del tipo de dato y se rellena la columna churn date con unknown ya que no se conoce ese dato\n",
    "df_users['reg_date'] = pd.to_datetime(df_users['reg_date'], format= '%Y-%m-%d')\n",
    "df_users['churn_date'] = df_users['churn_date'].fillna('Unknown')\n",
    "\n",
    "df_users.info()"
   ]
  },
  {
   "cell_type": "markdown",
   "metadata": {
    "id": "ycwuARJp0q07"
   },
   "source": [
    "### Enriquecer los datos"
   ]
  },
  {
   "cell_type": "code",
   "execution_count": 8,
   "metadata": {
    "id": "iq0AaBS90q08"
   },
   "outputs": [],
   "source": [
    "#Se genera una nueva columna para almacenar solo el número de mes\n",
    "df_users['month'] = df_users['reg_date'].dt.month\n"
   ]
  },
  {
   "cell_type": "markdown",
   "metadata": {
    "id": "o7MeKCid0q08"
   },
   "source": [
    "## Llamadas"
   ]
  },
  {
   "cell_type": "code",
   "execution_count": 9,
   "metadata": {
    "id": "6dDlnoDm0q08"
   },
   "outputs": [
    {
     "name": "stdout",
     "output_type": "stream",
     "text": [
      "<class 'pandas.core.frame.DataFrame'>\n",
      "RangeIndex: 137735 entries, 0 to 137734\n",
      "Data columns (total 4 columns):\n",
      " #   Column     Non-Null Count   Dtype  \n",
      "---  ------     --------------   -----  \n",
      " 0   id         137735 non-null  object \n",
      " 1   user_id    137735 non-null  int64  \n",
      " 2   call_date  137735 non-null  object \n",
      " 3   duration   137735 non-null  float64\n",
      "dtypes: float64(1), int64(1), object(2)\n",
      "memory usage: 4.2+ MB\n"
     ]
    }
   ],
   "source": [
    "# Imprime la información general/resumida sobre el DataFrame de las llamadas\n",
    "\n",
    "df_calls.info()"
   ]
  },
  {
   "cell_type": "code",
   "execution_count": 10,
   "metadata": {
    "id": "kuh1vlNB0q09"
   },
   "outputs": [
    {
     "name": "stdout",
     "output_type": "stream",
     "text": [
      "         id  user_id   call_date  duration\n",
      "0   1000_93     1000  2018-12-27      8.52\n",
      "1  1000_145     1000  2018-12-27     13.66\n",
      "2  1000_247     1000  2018-12-27     14.48\n",
      "3  1000_309     1000  2018-12-28      5.76\n",
      "4  1000_380     1000  2018-12-30      4.22\n"
     ]
    }
   ],
   "source": [
    "# Imprime una muestra de datos para las llamadas\n",
    "\n",
    "print(df_calls.head())"
   ]
  },
  {
   "cell_type": "markdown",
   "metadata": {
    "id": "DOAxYJSx0q09"
   },
   "source": [
    "La columna de call_date no cuenta con el tipo de dato apropiado ya que debería ser tipo datetime, para ello se debe cambiar el tipo de dato con el método de pandas to_datetime"
   ]
  },
  {
   "cell_type": "markdown",
   "metadata": {
    "id": "S7hzxmbX0q0-"
   },
   "source": [
    "### Corregir los datos"
   ]
  },
  {
   "cell_type": "code",
   "execution_count": 11,
   "metadata": {
    "id": "S2r8xA4f0q0-"
   },
   "outputs": [
    {
     "name": "stdout",
     "output_type": "stream",
     "text": [
      "<class 'pandas.core.frame.DataFrame'>\n",
      "RangeIndex: 137735 entries, 0 to 137734\n",
      "Data columns (total 4 columns):\n",
      " #   Column     Non-Null Count   Dtype         \n",
      "---  ------     --------------   -----         \n",
      " 0   call_id    137735 non-null  object        \n",
      " 1   user_id    137735 non-null  int64         \n",
      " 2   call_date  137735 non-null  datetime64[ns]\n",
      " 3   duration   137735 non-null  float64       \n",
      "dtypes: datetime64[ns](1), float64(1), int64(1), object(1)\n",
      "memory usage: 4.2+ MB\n"
     ]
    }
   ],
   "source": [
    "#Se cambia el tipo de dato para la columna call date y se cambia nombre a la columna de ID para poder identificarlo más rapidamente\n",
    "df_calls['call_date'] = pd.to_datetime(df_calls['call_date'], format= '%Y-%m-%d')\n",
    "\n",
    "df_calls = df_calls.rename(columns = {'id' : 'call_id'})\n",
    "\n",
    "df_calls.info()"
   ]
  },
  {
   "cell_type": "markdown",
   "metadata": {
    "id": "KrMgTrlG0q0_"
   },
   "source": [
    "### Enriquecer los datos"
   ]
  },
  {
   "cell_type": "code",
   "execution_count": 12,
   "metadata": {
    "id": "iZ1avpA_0q0_"
   },
   "outputs": [],
   "source": [
    "#Se genera columna para almacenar el número de mes por usuario\n",
    "df_calls['month'] = df_calls['call_date'].dt.month"
   ]
  },
  {
   "cell_type": "markdown",
   "metadata": {
    "id": "mOUZSi180q0_"
   },
   "source": [
    "## Mensajes"
   ]
  },
  {
   "cell_type": "code",
   "execution_count": 13,
   "metadata": {
    "id": "R-bYJpdV0q1A"
   },
   "outputs": [
    {
     "name": "stdout",
     "output_type": "stream",
     "text": [
      "<class 'pandas.core.frame.DataFrame'>\n",
      "RangeIndex: 76051 entries, 0 to 76050\n",
      "Data columns (total 3 columns):\n",
      " #   Column        Non-Null Count  Dtype \n",
      "---  ------        --------------  ----- \n",
      " 0   id            76051 non-null  object\n",
      " 1   user_id       76051 non-null  int64 \n",
      " 2   message_date  76051 non-null  object\n",
      "dtypes: int64(1), object(2)\n",
      "memory usage: 1.7+ MB\n"
     ]
    }
   ],
   "source": [
    "# Imprime la información general/resumida sobre el DataFrame de los mensajes\n",
    "\n",
    "df_messages.info()"
   ]
  },
  {
   "cell_type": "code",
   "execution_count": 14,
   "metadata": {
    "id": "mCEl2iGE0q1A"
   },
   "outputs": [
    {
     "name": "stdout",
     "output_type": "stream",
     "text": [
      "         id  user_id message_date\n",
      "0  1000_125     1000   2018-12-27\n",
      "1  1000_160     1000   2018-12-31\n",
      "2  1000_223     1000   2018-12-31\n",
      "3  1000_251     1000   2018-12-27\n",
      "4  1000_255     1000   2018-12-26\n"
     ]
    }
   ],
   "source": [
    "# Imprime una muestra de datos para los mensajes\n",
    "\n",
    "print(df_messages.head())"
   ]
  },
  {
   "cell_type": "markdown",
   "metadata": {
    "id": "04xDj7KH0q1A"
   },
   "source": [
    "El tipo de dato de la columna message_date no es el apropiado, debe ser tipo datetime en lugar de object, se debe cambiar el tipo con el método de pandas to_datetime"
   ]
  },
  {
   "cell_type": "markdown",
   "metadata": {
    "id": "Sprfak900q1B"
   },
   "source": [
    "### Corregir los datos"
   ]
  },
  {
   "cell_type": "code",
   "execution_count": 15,
   "metadata": {
    "id": "vsllvkoa0q1B"
   },
   "outputs": [],
   "source": [
    "df_messages['message_date'] = pd.to_datetime(df_messages['message_date'], format= '%Y-%m-%d')\n",
    "df_messages = df_messages.rename(columns = {'id' : 'message_id'})"
   ]
  },
  {
   "cell_type": "markdown",
   "metadata": {
    "id": "HvLid7iD0q1B"
   },
   "source": [
    "### Enriquecer los datos"
   ]
  },
  {
   "cell_type": "code",
   "execution_count": 16,
   "metadata": {
    "id": "zYEXZac10q1C"
   },
   "outputs": [],
   "source": [
    "df_messages['month'] = df_messages['message_date'].dt.month"
   ]
  },
  {
   "cell_type": "markdown",
   "metadata": {
    "id": "bStkaxn40q1C"
   },
   "source": [
    "## Internet"
   ]
  },
  {
   "cell_type": "code",
   "execution_count": 17,
   "metadata": {
    "id": "e-Uz5qyn0q1C"
   },
   "outputs": [
    {
     "name": "stdout",
     "output_type": "stream",
     "text": [
      "<class 'pandas.core.frame.DataFrame'>\n",
      "RangeIndex: 104825 entries, 0 to 104824\n",
      "Data columns (total 4 columns):\n",
      " #   Column        Non-Null Count   Dtype  \n",
      "---  ------        --------------   -----  \n",
      " 0   id            104825 non-null  object \n",
      " 1   user_id       104825 non-null  int64  \n",
      " 2   session_date  104825 non-null  object \n",
      " 3   mb_used       104825 non-null  float64\n",
      "dtypes: float64(1), int64(1), object(2)\n",
      "memory usage: 3.2+ MB\n"
     ]
    }
   ],
   "source": [
    "# Imprime la información general/resumida sobre el DataFrame de internet\n",
    "\n",
    "df_internet.info()"
   ]
  },
  {
   "cell_type": "code",
   "execution_count": 18,
   "metadata": {
    "id": "9r3x_XLw0q1C"
   },
   "outputs": [
    {
     "name": "stdout",
     "output_type": "stream",
     "text": [
      "         id  user_id session_date  mb_used\n",
      "0   1000_13     1000   2018-12-29    89.86\n",
      "1  1000_204     1000   2018-12-31     0.00\n",
      "2  1000_379     1000   2018-12-28   660.40\n",
      "3  1000_413     1000   2018-12-26   270.99\n",
      "4  1000_442     1000   2018-12-27   880.22\n"
     ]
    }
   ],
   "source": [
    "# Imprime una muestra de datos para el tráfico de internet\n",
    "\n",
    "print(df_internet.head())"
   ]
  },
  {
   "cell_type": "markdown",
   "metadata": {
    "id": "EzOG5ik30q1D"
   },
   "source": [
    "Se puede observar que el tipo de datos para la columna de session_date no es el adecuado, el tipo de dato debe ser tipo datetime, para modificarlo se debe utilizar el método to_datetime de la librería pandas para realizar la conversión correspondiente"
   ]
  },
  {
   "cell_type": "markdown",
   "metadata": {
    "id": "yA0tkPFg0q1D"
   },
   "source": [
    "### Corregir los datos"
   ]
  },
  {
   "cell_type": "code",
   "execution_count": 19,
   "metadata": {
    "id": "zVeanzdd0q1E"
   },
   "outputs": [],
   "source": [
    "df_internet['session_date'] = pd.to_datetime(df_internet['session_date'], format= '%Y-%m-%d')\n",
    "df_internet = df_internet.rename(columns = {'id' : 'session_id'})"
   ]
  },
  {
   "cell_type": "markdown",
   "metadata": {
    "id": "e8_mLF4a0q1E"
   },
   "source": [
    "### Enriquecer los datos"
   ]
  },
  {
   "cell_type": "code",
   "execution_count": 20,
   "metadata": {
    "id": "ESiYPIEK0q1E"
   },
   "outputs": [],
   "source": [
    "df_internet['month'] = df_internet['session_date'].dt.month"
   ]
  },
  {
   "cell_type": "markdown",
   "metadata": {
    "id": "3UA2cqIW0q1E"
   },
   "source": [
    "## Estudiar las condiciones de las tarifas"
   ]
  },
  {
   "cell_type": "code",
   "execution_count": 21,
   "metadata": {
    "id": "i409op8p0q1F"
   },
   "outputs": [
    {
     "name": "stdout",
     "output_type": "stream",
     "text": [
      "   messages_included  mb_per_month_included  minutes_included  \\\n",
      "0                 50                  15360               500   \n",
      "1               1000                  30720              3000   \n",
      "\n",
      "   usd_monthly_pay  usd_per_gb  usd_per_message  usd_per_minute plan_name  \n",
      "0               20          10             0.03            0.03      surf  \n",
      "1               70           7             0.01            0.01  ultimate  \n"
     ]
    }
   ],
   "source": [
    "# Imprime las condiciones de la tarifa y asegúrate de que te quedan claras\n",
    "\n",
    "print(df_plans.head())"
   ]
  },
  {
   "cell_type": "markdown",
   "metadata": {
    "id": "hMR1tP5d0q1F"
   },
   "source": [
    "## Agregar datos por usuario\n"
   ]
  },
  {
   "cell_type": "code",
   "execution_count": 22,
   "metadata": {
    "id": "A332cedB0q1G"
   },
   "outputs": [
    {
     "name": "stdout",
     "output_type": "stream",
     "text": [
      "user_id  month_y\n",
      "1000     12         16\n",
      "1001     8          27\n",
      "         9          49\n",
      "         10         65\n",
      "         11         64\n",
      "                    ..\n",
      "1498     12         39\n",
      "1499     9          41\n",
      "         10         53\n",
      "         11         45\n",
      "         12         65\n",
      "Name: call_id, Length: 2258, dtype: int64\n"
     ]
    }
   ],
   "source": [
    "# Se realiza el calculo y la agrupación para conocer la cantidad de llamadas que realizan los usuarios por mes\n",
    "\n",
    "df_calls_users = df_users.merge(df_calls, on =\"user_id\")\n",
    "\n",
    "calls_per_user = df_calls_users.groupby(['user_id', 'month_y'])['call_id'].count()\n",
    "\n",
    "print(calls_per_user)"
   ]
  },
  {
   "cell_type": "code",
   "execution_count": 23,
   "metadata": {
    "id": "aw2cmuql0q1G"
   },
   "outputs": [
    {
     "name": "stdout",
     "output_type": "stream",
     "text": [
      "user_id  month_y\n",
      "1000     12         116.83\n",
      "1001     8          171.14\n",
      "         9          297.69\n",
      "         10         374.11\n",
      "         11         404.59\n",
      "                     ...  \n",
      "1498     12         324.77\n",
      "1499     9          330.37\n",
      "         10         363.28\n",
      "         11         288.56\n",
      "         12         468.10\n",
      "Name: duration, Length: 2258, dtype: float64\n"
     ]
    }
   ],
   "source": [
    "# Se realiza la agrupación y el calculo para validar el número de minutos por llamadas por mes que tuvo cada usuario\n",
    "\n",
    "minutes_per_user = df_calls_users.groupby(['user_id', 'month_y'])['duration'].sum()\n",
    "\n",
    "print(minutes_per_user)"
   ]
  },
  {
   "cell_type": "code",
   "execution_count": 24,
   "metadata": {
    "id": "CcQvNHn60q1G"
   },
   "outputs": [
    {
     "name": "stdout",
     "output_type": "stream",
     "text": [
      "user_id  month_y\n",
      "1000     12         11\n",
      "1001     8          30\n",
      "         9          44\n",
      "         10         53\n",
      "         11         36\n",
      "                    ..\n",
      "1496     9          21\n",
      "         10         18\n",
      "         11         13\n",
      "         12         11\n",
      "1497     12         50\n",
      "Name: message_id, Length: 1806, dtype: int64\n"
     ]
    }
   ],
   "source": [
    "# Se calcula el número de mensajes que envio cada usuario por mes\n",
    "\n",
    "df_message_users = df_users.merge(df_messages, on =\"user_id\")\n",
    "\n",
    "messages_per_user = df_message_users.groupby(['user_id', 'month_y'])['message_id'].count()\n",
    "\n",
    "print(messages_per_user)"
   ]
  },
  {
   "cell_type": "code",
   "execution_count": 25,
   "metadata": {
    "id": "H1AqN2eG0q1H"
   },
   "outputs": [
    {
     "name": "stdout",
     "output_type": "stream",
     "text": [
      "user_id  month_y\n",
      "1000     12          1901.47\n",
      "1001     8           6919.15\n",
      "         9          13314.82\n",
      "         10         22330.49\n",
      "         11         18504.30\n",
      "                      ...   \n",
      "1498     12         23137.69\n",
      "1499     9          12984.76\n",
      "         10         19492.43\n",
      "         11         16813.83\n",
      "         12         22059.21\n",
      "Name: mb_used, Length: 2277, dtype: float64\n"
     ]
    }
   ],
   "source": [
    "# Se calcula el número de mb que utilizaron los usuarios por mes\n",
    "\n",
    "df_internet_users = df_users.merge(df_internet, on = \"user_id\")\n",
    "#print(df_internet_users)\n",
    "\n",
    "mb_per_user = df_internet_users.groupby(['user_id', 'month_y'])['mb_used'].sum()\n",
    "\n",
    "print(mb_per_user)"
   ]
  },
  {
   "cell_type": "code",
   "execution_count": 26,
   "metadata": {
    "id": "FW99ykyf0q1H"
   },
   "outputs": [],
   "source": [
    "# Se combinan los datos previos por medio de la funcion concat para tener toda la información en conjunto\n",
    "\n",
    "df_information = pd.concat([calls_per_user, minutes_per_user, messages_per_user, mb_per_user], axis=\"columns\").reset_index()\n",
    "\n"
   ]
  },
  {
   "cell_type": "code",
   "execution_count": 27,
   "metadata": {
    "id": "0dNOXHag0q1H"
   },
   "outputs": [],
   "source": [
    "# Se añaden las tarifas de los planes \n",
    "\n",
    "plan_per_user = df_users[['user_id', 'plan']]\n",
    "\n",
    "df_information = df_information.merge(plan_per_user, on='user_id')\n"
   ]
  },
  {
   "cell_type": "code",
   "execution_count": 28,
   "metadata": {},
   "outputs": [],
   "source": [
    "#Se modifican los nombres de las columnas para mejorar la visualización de los datos y facilitar el trabajar con ellos, igualmente se rellenan los datos nulos\n",
    "new_columns = {\"month_y\" : \"month\",\"call_id\" : \"total_calls\", \"duration\" : \"total_minutes\", \"message_id\" : \"total_messages\", \"mb_used\" : \"total_mb\", \"plan\" : \"plan_name\"}\n",
    "\n",
    "df_information = df_information.rename(columns = new_columns)\n",
    "\n",
    "df_information = df_information.fillna(0)\n",
    "\n"
   ]
  },
  {
   "cell_type": "code",
   "execution_count": 29,
   "metadata": {
    "id": "5FGCf_c60q1I",
    "scrolled": true
   },
   "outputs": [
    {
     "name": "stdout",
     "output_type": "stream",
     "text": [
      "      user_id  month  total_calls  total_minutes  total_messages  total_mb  \\\n",
      "0        1000     12         16.0         116.83            11.0   1901.47   \n",
      "1        1001      8         27.0         171.14            30.0   6919.15   \n",
      "2        1001      9         49.0         297.69            44.0  13314.82   \n",
      "3        1001     10         65.0         374.11            53.0  22330.49   \n",
      "4        1001     11         64.0         404.59            36.0  18504.30   \n",
      "...       ...    ...          ...            ...             ...       ...   \n",
      "2288     1498     12         39.0         324.77             0.0  23137.69   \n",
      "2289     1499      9         41.0         330.37             0.0  12984.76   \n",
      "2290     1499     10         53.0         363.28             0.0  19492.43   \n",
      "2291     1499     11         45.0         288.56             0.0  16813.83   \n",
      "2292     1499     12         65.0         468.10             0.0  22059.21   \n",
      "\n",
      "     plan_name  messages_included  mb_per_month_included  minutes_included  \\\n",
      "0     ultimate               1000                  30720              3000   \n",
      "1         surf                 50                  15360               500   \n",
      "2         surf                 50                  15360               500   \n",
      "3         surf                 50                  15360               500   \n",
      "4         surf                 50                  15360               500   \n",
      "...        ...                ...                    ...               ...   \n",
      "2288      surf                 50                  15360               500   \n",
      "2289      surf                 50                  15360               500   \n",
      "2290      surf                 50                  15360               500   \n",
      "2291      surf                 50                  15360               500   \n",
      "2292      surf                 50                  15360               500   \n",
      "\n",
      "      usd_monthly_pay  usd_per_gb  usd_per_message  usd_per_minute  \\\n",
      "0                  70           7             0.01            0.01   \n",
      "1                  20          10             0.03            0.03   \n",
      "2                  20          10             0.03            0.03   \n",
      "3                  20          10             0.03            0.03   \n",
      "4                  20          10             0.03            0.03   \n",
      "...               ...         ...              ...             ...   \n",
      "2288               20          10             0.03            0.03   \n",
      "2289               20          10             0.03            0.03   \n",
      "2290               20          10             0.03            0.03   \n",
      "2291               20          10             0.03            0.03   \n",
      "2292               20          10             0.03            0.03   \n",
      "\n",
      "      minutes_income  messages_income  internet_income  total_income  \n",
      "0                0.0             0.00              0.0         70.00  \n",
      "1                0.0             0.00              0.0         20.00  \n",
      "2                0.0             0.00              0.0         20.00  \n",
      "3                0.0             0.09             70.0         90.09  \n",
      "4                0.0             0.00             30.0         50.00  \n",
      "...              ...              ...              ...           ...  \n",
      "2288             0.0             0.00             80.0        100.00  \n",
      "2289             0.0             0.00              0.0         20.00  \n",
      "2290             0.0             0.00             40.0         60.00  \n",
      "2291             0.0             0.00             10.0         30.00  \n",
      "2292             0.0             0.00             70.0         90.00  \n",
      "\n",
      "[2293 rows x 18 columns]\n"
     ]
    }
   ],
   "source": [
    "# Se calcula el ingreso que se obtuvo por cada usuario \n",
    "\n",
    "df_user_income = df_information.merge(df_plans, on=\"plan_name\", how='left')\n",
    "\n",
    "df_user_income['minutes_income'] = df_user_income['total_minutes'] - df_user_income['minutes_included']\n",
    "df_user_income['minutes_income'] = (df_user_income['minutes_income'].apply(lambda x: max(x,0)) * df_user_income['usd_per_minute'])\n",
    "\n",
    "df_user_income['messages_income'] = df_user_income['total_messages'] - df_user_income['messages_included']\n",
    "df_user_income['messages_income'] = (df_user_income['messages_income'].apply(lambda x: max(x,0)) * df_user_income['usd_per_message'])\n",
    "\n",
    "df_user_income['internet_income'] = df_user_income['total_mb'] - df_user_income['mb_per_month_included']\n",
    "df_user_income['internet_income'] = ((df_user_income['internet_income'].apply(lambda x: max(x,0)) / 1024).round()) * df_user_income['usd_per_gb']\n",
    "\n",
    "df_user_income['total_income'] = (df_user_income['minutes_income'] + df_user_income['messages_income'] + df_user_income['internet_income']) + df_user_income['usd_monthly_pay']\n",
    "\n",
    "print(df_user_income)"
   ]
  },
  {
   "cell_type": "code",
   "execution_count": 30,
   "metadata": {},
   "outputs": [],
   "source": [
    "#Se añade la columna de city para realizar un analisis sobre las areas\n",
    "df_country_user = df_users[['user_id', 'city']]\n",
    "\n",
    "df_user_income = df_user_income.merge(df_country_user, on=\"user_id\")\n",
    "\n"
   ]
  },
  {
   "cell_type": "markdown",
   "metadata": {
    "id": "-jtyHzJb0q1I"
   },
   "source": [
    "## Estudia el comportamiento de usuario"
   ]
  },
  {
   "cell_type": "markdown",
   "metadata": {
    "id": "vtW4CJEe0q1J"
   },
   "source": [
    "### Llamadas"
   ]
  },
  {
   "cell_type": "code",
   "execution_count": 31,
   "metadata": {
    "id": "Jf5v5--k0q1J"
   },
   "outputs": [
    {
     "data": {
      "image/png": "[encoded data removed]",
      "text/plain": [
       "<Figure size 432x288 with 1 Axes>"
      ]
     },
     "metadata": {
      "needs_background": "light"
     },
     "output_type": "display_data"
    }
   ],
   "source": [
    "#Se divide el dataset en dos diferentes por medio del plan\n",
    "surf_plan = df_user_income[df_user_income['plan_name'] == 'surf']\n",
    "ultimate_plan = df_user_income[df_user_income['plan_name'] == 'ultimate']\n",
    "\n",
    "#Se obtiene el promedio para los minutos de llamadas por cada uno de los planes\n",
    "\n",
    "surf_mean = surf_plan.groupby(['month', 'plan_name'])['total_minutes'].mean().reset_index()\n",
    "ultimate_mean = ultimate_plan.groupby(['month', 'plan_name'])['total_minutes'].mean().reset_index()\n",
    "\n",
    "#Se combinan ambos datasets y se modifican los nombres de las columnas \n",
    "calls_per_month = surf_mean.merge(ultimate_mean, on='month', how='left')\n",
    "columns_names = {\"plan_name_x\":\"surf_plan\", \"total_minutes_x\":\"surf_calls_duration\",\"plan_name_y\":\"ultimate_plan\",\"total_minutes_y\":\"ultimate_calls_duration\"}\n",
    "calls_per_month = calls_per_month.rename(columns=columns_names)\n",
    "\n",
    "#Se realiza la grafica\n",
    "calls_per_month.plot(\n",
    "    kind='bar',\n",
    "    x='month',\n",
    "    xlabel='Meses',\n",
    "    ylabel='Cantidad de minutos',\n",
    "    title='Promedio de minutos de llamadas por mes de acuerdo al plan'\n",
    ")\n",
    "plt.legend(['Surf','Ultimate'])\n",
    "plt.show()"
   ]
  },
  {
   "cell_type": "code",
   "execution_count": 32,
   "metadata": {
    "id": "QoLqW1S_0q1J"
   },
   "outputs": [
    {
     "data": {
      "text/plain": [
       "<AxesSubplot:xlabel='total_minutes', ylabel='Count'>"
      ]
     },
     "execution_count": 32,
     "metadata": {},
     "output_type": "execute_result"
    },
    {
     "data": {
      "image/png": "[encoded data removed]",
      "text/plain": [
       "<Figure size 432x288 with 1 Axes>"
      ]
     },
     "metadata": {
      "needs_background": "light"
     },
     "output_type": "display_data"
    }
   ],
   "source": [
    "# Compara el número de minutos mensuales que necesitan los usuarios de cada plan. Traza un histograma.\n",
    "\n",
    "sns.histplot(data = df_user_income, x='total_minutes', hue='plan_name')"
   ]
  },
  {
   "cell_type": "code",
   "execution_count": 33,
   "metadata": {
    "id": "oSndbAnt0q1K"
   },
   "outputs": [
    {
     "data": {
      "text/html": [
       "<div>\n",
       "<style scoped>\n",
       "    .dataframe tbody tr th:only-of-type {\n",
       "        vertical-align: middle;\n",
       "    }\n",
       "\n",
       "    .dataframe tbody tr th {\n",
       "        vertical-align: top;\n",
       "    }\n",
       "\n",
       "    .dataframe thead tr th {\n",
       "        text-align: left;\n",
       "    }\n",
       "\n",
       "    .dataframe thead tr:last-of-type th {\n",
       "        text-align: right;\n",
       "    }\n",
       "</style>\n",
       "<table border=\"1\" class=\"dataframe\">\n",
       "  <thead>\n",
       "    <tr>\n",
       "      <th></th>\n",
       "      <th colspan=\"2\" halign=\"left\">total_minutes</th>\n",
       "    </tr>\n",
       "    <tr>\n",
       "      <th></th>\n",
       "      <th>mean</th>\n",
       "      <th>var</th>\n",
       "    </tr>\n",
       "    <tr>\n",
       "      <th>plan_name</th>\n",
       "      <th></th>\n",
       "      <th></th>\n",
       "    </tr>\n",
       "  </thead>\n",
       "  <tbody>\n",
       "    <tr>\n",
       "      <th>surf</th>\n",
       "      <td>404.762390</td>\n",
       "      <td>49135.104891</td>\n",
       "    </tr>\n",
       "    <tr>\n",
       "      <th>ultimate</th>\n",
       "      <td>406.193083</td>\n",
       "      <td>51640.971402</td>\n",
       "    </tr>\n",
       "  </tbody>\n",
       "</table>\n",
       "</div>"
      ],
      "text/plain": [
       "          total_minutes              \n",
       "                   mean           var\n",
       "plan_name                            \n",
       "surf         404.762390  49135.104891\n",
       "ultimate     406.193083  51640.971402"
      ]
     },
     "execution_count": 33,
     "metadata": {},
     "output_type": "execute_result"
    }
   ],
   "source": [
    "# Calcula la media y la varianza de la duración mensual de llamadas.\n",
    "\n",
    "df_user_income.groupby('plan_name').agg({'total_minutes':['mean','var']})"
   ]
  },
  {
   "cell_type": "code",
   "execution_count": 34,
   "metadata": {
    "id": "nZzoRUKc0q1K"
   },
   "outputs": [
    {
     "data": {
      "text/plain": [
       "<AxesSubplot:title={'center':'total_minutes'}, xlabel='plan_name'>"
      ]
     },
     "execution_count": 34,
     "metadata": {},
     "output_type": "execute_result"
    },
    {
     "data": {
      "image/png": "[encoded data removed]",
      "text/plain": [
       "<Figure size 432x288 with 1 Axes>"
      ]
     },
     "metadata": {
      "needs_background": "light"
     },
     "output_type": "display_data"
    }
   ],
   "source": [
    "# Traza un diagrama de caja para visualizar la distribución de la duración mensual de llamadas\n",
    "\n",
    "df_user_income.boxplot(column='total_minutes', by='plan_name')"
   ]
  },
  {
   "cell_type": "markdown",
   "metadata": {
    "id": "r627zBO50q1K"
   },
   "source": [
    "De acuerdo a la información filtrada y mostrada se puede validar que los usuarios del plan de surf tienden a utilizar más sus minutos de llamadas que los usuarios del plan ultimate"
   ]
  },
  {
   "cell_type": "markdown",
   "metadata": {
    "id": "8idKy8Wh0q1L"
   },
   "source": [
    "### Mensajes"
   ]
  },
  {
   "cell_type": "code",
   "execution_count": 35,
   "metadata": {
    "id": "NXLxiTit0q1L"
   },
   "outputs": [
    {
     "data": {
      "image/png": "[encoded data removed]",
      "text/plain": [
       "<Figure size 432x288 with 1 Axes>"
      ]
     },
     "metadata": {
      "needs_background": "light"
     },
     "output_type": "display_data"
    }
   ],
   "source": [
    "# Comprara el número de mensajes que tienden a enviar cada mes los usuarios de cada plan\n",
    "\n",
    "surf_message = surf_plan.groupby(['month', 'plan_name'])['total_messages'].sum().reset_index()\n",
    "ultimate_message = ultimate_plan.groupby(['month', 'plan_name'])['total_messages'].sum().reset_index()\n",
    "\n",
    "#print(surf_message)\n",
    "#print(ultimate_message)\n",
    "messages_per_month = surf_message.merge(ultimate_message, on='month', how='left')\n",
    "\n",
    "#print(messages_per_month)\n",
    "columns_names = {\"plan_name_x\":\"surf_plan\", \"total_messages_x\":\"surf_total_messages\",\"plan_name_y\":\"ultimate_plan\",\"total_messages_y\":\"ultimate_total_messages\"}\n",
    "messages_per_month = messages_per_month.rename(columns=columns_names)\n",
    "\n",
    "messages_per_month.plot(\n",
    "    kind='bar',\n",
    "    x='month',\n",
    "    xlabel='Meses',\n",
    "    ylabel='Cantidad de mensajes',\n",
    "    title='Cantidad de mensajes por mes de acuerdo al plan'\n",
    ")\n",
    "plt.legend(['Surf','Ultimate'])\n",
    "plt.show()"
   ]
  },
  {
   "cell_type": "code",
   "execution_count": 36,
   "metadata": {
    "id": "GRI_R7xF0q1L"
   },
   "outputs": [
    {
     "data": {
      "text/plain": [
       "<AxesSubplot:xlabel='total_messages', ylabel='Count'>"
      ]
     },
     "execution_count": 36,
     "metadata": {},
     "output_type": "execute_result"
    },
    {
     "data": {
      "image/png": "[encoded data removed]",
      "text/plain": [
       "<Figure size 432x288 with 1 Axes>"
      ]
     },
     "metadata": {
      "needs_background": "light"
     },
     "output_type": "display_data"
    }
   ],
   "source": [
    "# Compara la cantidad de tráfico de Internet consumido por usuarios por plan\n",
    "\n",
    "sns.histplot(data = df_user_income, x='total_messages', hue='plan_name')"
   ]
  },
  {
   "cell_type": "code",
   "execution_count": 37,
   "metadata": {},
   "outputs": [
    {
     "data": {
      "text/html": [
       "<div>\n",
       "<style scoped>\n",
       "    .dataframe tbody tr th:only-of-type {\n",
       "        vertical-align: middle;\n",
       "    }\n",
       "\n",
       "    .dataframe tbody tr th {\n",
       "        vertical-align: top;\n",
       "    }\n",
       "\n",
       "    .dataframe thead tr th {\n",
       "        text-align: left;\n",
       "    }\n",
       "\n",
       "    .dataframe thead tr:last-of-type th {\n",
       "        text-align: right;\n",
       "    }\n",
       "</style>\n",
       "<table border=\"1\" class=\"dataframe\">\n",
       "  <thead>\n",
       "    <tr>\n",
       "      <th></th>\n",
       "      <th colspan=\"2\" halign=\"left\">total_messages</th>\n",
       "    </tr>\n",
       "    <tr>\n",
       "      <th></th>\n",
       "      <th>mean</th>\n",
       "      <th>var</th>\n",
       "    </tr>\n",
       "    <tr>\n",
       "      <th>plan_name</th>\n",
       "      <th></th>\n",
       "      <th></th>\n",
       "    </tr>\n",
       "  </thead>\n",
       "  <tbody>\n",
       "    <tr>\n",
       "      <th>surf</th>\n",
       "      <td>31.159568</td>\n",
       "      <td>1126.724522</td>\n",
       "    </tr>\n",
       "    <tr>\n",
       "      <th>ultimate</th>\n",
       "      <td>37.551389</td>\n",
       "      <td>1208.756744</td>\n",
       "    </tr>\n",
       "  </tbody>\n",
       "</table>\n",
       "</div>"
      ],
      "text/plain": [
       "          total_messages             \n",
       "                    mean          var\n",
       "plan_name                            \n",
       "surf           31.159568  1126.724522\n",
       "ultimate       37.551389  1208.756744"
      ]
     },
     "execution_count": 37,
     "metadata": {},
     "output_type": "execute_result"
    }
   ],
   "source": [
    "df_user_income.groupby('plan_name').agg({'total_messages':['mean','var']})"
   ]
  },
  {
   "cell_type": "code",
   "execution_count": 38,
   "metadata": {
    "id": "dtFwCGAp0q1M"
   },
   "outputs": [
    {
     "data": {
      "text/plain": [
       "<AxesSubplot:title={'center':'total_messages'}, xlabel='plan_name'>"
      ]
     },
     "execution_count": 38,
     "metadata": {},
     "output_type": "execute_result"
    },
    {
     "data": {
      "image/png": "[encoded data removed]",
      "text/plain": [
       "<Figure size 432x288 with 1 Axes>"
      ]
     },
     "metadata": {
      "needs_background": "light"
     },
     "output_type": "display_data"
    }
   ],
   "source": [
    "df_user_income.boxplot(column='total_messages', by='plan_name')"
   ]
  },
  {
   "cell_type": "markdown",
   "metadata": {
    "id": "390SSL480q1M"
   },
   "source": [
    "Los usuarios igualmente tienden a utilizar más mensajes dentro del plan Surf que dentro del plan ultimate, habiendo una gran diferencia y cantidad de datos lejanos a la media"
   ]
  },
  {
   "cell_type": "markdown",
   "metadata": {
    "id": "42YSypXz0q1M"
   },
   "source": [
    "### Internet"
   ]
  },
  {
   "cell_type": "code",
   "execution_count": 39,
   "metadata": {
    "id": "lSuKPtjh0q1M"
   },
   "outputs": [
    {
     "data": {
      "image/png": "[encoded data removed]",
      "text/plain": [
       "<Figure size 432x288 with 1 Axes>"
      ]
     },
     "metadata": {
      "needs_background": "light"
     },
     "output_type": "display_data"
    }
   ],
   "source": [
    "surf_internet = surf_plan.groupby(['month', 'plan_name'])['total_mb'].sum().reset_index()\n",
    "ultimate_internet = ultimate_plan.groupby(['month', 'plan_name'])['total_mb'].sum().reset_index()\n",
    "\n",
    "internet_per_month = surf_internet.merge(ultimate_internet, on='month', how='left')\n",
    "\n",
    "columns_names = {\"plan_name_x\":\"surf_plan\", \"total_mb_x\":\"surf_total_mb\",\"plan_name_y\":\"ultimate_plan\",\"total_mb_y\":\"ultimate_total_mb\"}\n",
    "internet_per_month = internet_per_month.rename(columns=columns_names)\n",
    "\n",
    "internet_per_month.plot(\n",
    "    kind='bar',\n",
    "    x='month',\n",
    "    xlabel='Meses',\n",
    "    ylabel='Cantidad de internet',\n",
    "    title=\"Cantidad de internet utilizado por mes de acuerdo al plan (mb)\"\n",
    ")\n",
    "plt.legend(['Surf','Ultimate'])\n",
    "plt.show()"
   ]
  },
  {
   "cell_type": "code",
   "execution_count": 40,
   "metadata": {
    "id": "wnh8jYXi0q1N"
   },
   "outputs": [
    {
     "data": {
      "text/plain": [
       "<AxesSubplot:xlabel='total_mb', ylabel='Count'>"
      ]
     },
     "execution_count": 40,
     "metadata": {},
     "output_type": "execute_result"
    },
    {
     "data": {
      "image/png": "[encoded data removed]",
      "text/plain": [
       "<Figure size 432x288 with 1 Axes>"
      ]
     },
     "metadata": {
      "needs_background": "light"
     },
     "output_type": "display_data"
    }
   ],
   "source": [
    "sns.histplot(data = df_user_income, x='total_mb', hue='plan_name')"
   ]
  },
  {
   "cell_type": "code",
   "execution_count": 41,
   "metadata": {},
   "outputs": [
    {
     "data": {
      "text/html": [
       "<div>\n",
       "<style scoped>\n",
       "    .dataframe tbody tr th:only-of-type {\n",
       "        vertical-align: middle;\n",
       "    }\n",
       "\n",
       "    .dataframe tbody tr th {\n",
       "        vertical-align: top;\n",
       "    }\n",
       "\n",
       "    .dataframe thead tr th {\n",
       "        text-align: left;\n",
       "    }\n",
       "\n",
       "    .dataframe thead tr:last-of-type th {\n",
       "        text-align: right;\n",
       "    }\n",
       "</style>\n",
       "<table border=\"1\" class=\"dataframe\">\n",
       "  <thead>\n",
       "    <tr>\n",
       "      <th></th>\n",
       "      <th colspan=\"2\" halign=\"left\">total_mb</th>\n",
       "    </tr>\n",
       "    <tr>\n",
       "      <th></th>\n",
       "      <th>mean</th>\n",
       "      <th>var</th>\n",
       "    </tr>\n",
       "    <tr>\n",
       "      <th>plan_name</th>\n",
       "      <th></th>\n",
       "      <th></th>\n",
       "    </tr>\n",
       "  </thead>\n",
       "  <tbody>\n",
       "    <tr>\n",
       "      <th>surf</th>\n",
       "      <td>16558.283490</td>\n",
       "      <td>6.421640e+07</td>\n",
       "    </tr>\n",
       "    <tr>\n",
       "      <th>ultimate</th>\n",
       "      <td>17214.699694</td>\n",
       "      <td>6.165229e+07</td>\n",
       "    </tr>\n",
       "  </tbody>\n",
       "</table>\n",
       "</div>"
      ],
      "text/plain": [
       "               total_mb              \n",
       "                   mean           var\n",
       "plan_name                            \n",
       "surf       16558.283490  6.421640e+07\n",
       "ultimate   17214.699694  6.165229e+07"
      ]
     },
     "execution_count": 41,
     "metadata": {},
     "output_type": "execute_result"
    }
   ],
   "source": [
    "df_user_income.groupby('plan_name').agg({'total_mb':['mean','var']})"
   ]
  },
  {
   "cell_type": "code",
   "execution_count": 42,
   "metadata": {
    "id": "5VlyJ9ry0q1N",
    "scrolled": true
   },
   "outputs": [
    {
     "data": {
      "text/plain": [
       "<AxesSubplot:title={'center':'total_mb'}, xlabel='plan_name'>"
      ]
     },
     "execution_count": 42,
     "metadata": {},
     "output_type": "execute_result"
    },
    {
     "data": {
      "image/png": "[encoded data removed]",
      "text/plain": [
       "<Figure size 432x288 with 1 Axes>"
      ]
     },
     "metadata": {
      "needs_background": "light"
     },
     "output_type": "display_data"
    }
   ],
   "source": [
    "df_user_income.boxplot(column='total_mb', by='plan_name')"
   ]
  },
  {
   "cell_type": "markdown",
   "metadata": {
    "id": "UN9zwuMP0q1N"
   },
   "source": [
    "\n",
    "Los usuarios dentro del plan surf tienen a usar más datos de internet que los usuarios que tienen el plan ultimate siendo los usuarios del plan surf quienes superan más los límites gratuitos del plan"
   ]
  },
  {
   "cell_type": "markdown",
   "metadata": {
    "id": "tCijq3260q1N"
   },
   "source": [
    "## Ingreso"
   ]
  },
  {
   "cell_type": "code",
   "execution_count": 43,
   "metadata": {
    "id": "tz-dq_V00q1O",
    "scrolled": true
   },
   "outputs": [
    {
     "data": {
      "image/png": "[encoded data removed]",
      "text/plain": [
       "<Figure size 432x288 with 1 Axes>"
      ]
     },
     "metadata": {
      "needs_background": "light"
     },
     "output_type": "display_data"
    },
    {
     "data": {
      "image/png": "[encoded data removed]",
      "text/plain": [
       "<Figure size 432x288 with 1 Axes>"
      ]
     },
     "metadata": {
      "needs_background": "light"
     },
     "output_type": "display_data"
    },
    {
     "data": {
      "image/png": "[encoded data removed]",
      "text/plain": [
       "<Figure size 432x288 with 1 Axes>"
      ]
     },
     "metadata": {
      "needs_background": "light"
     },
     "output_type": "display_data"
    }
   ],
   "source": [
    "surf_calls_income = surf_plan.groupby(['month', 'plan_name'])['minutes_income'].sum().reset_index()\n",
    "ultimate_calls_income = ultimate_plan.groupby(['month', 'plan_name'])['minutes_income'].sum().reset_index()\n",
    "\n",
    "surf_messages_income = surf_plan.groupby(['month', 'plan_name'])['messages_income'].sum().reset_index()\n",
    "ultimate_messages_income = ultimate_plan.groupby(['month', 'plan_name'])['messages_income'].sum().reset_index()\n",
    "\n",
    "surf_internet_income = surf_plan.groupby(['month', 'plan_name'])['internet_income'].sum().reset_index()\n",
    "ultimate_internet_income = ultimate_plan.groupby(['month', 'plan_name'])['internet_income'].sum().reset_index()\n",
    "\n",
    "\n",
    "income_per_month_calls = surf_calls_income.merge(ultimate_calls_income, on='month', how='left')\n",
    "\n",
    "income_per_month_messages = surf_messages_income.merge(ultimate_messages_income, on='month', how='left')\n",
    "\n",
    "income_per_month_internet = surf_internet_income.merge(ultimate_internet_income, on='month', how='left')\n",
    "\n",
    "\n",
    "columns_names_calls = {\"plan_name_x\":\"surf_plan\", \"minutes_income_x\":\"surf_calls_income\",\"plan_name_y\":\"ultimate_plan\",\"minutes_income_y\":\"ultimate_income_calls\"}\n",
    "columns_names_messages = {\"plan_name_x\":\"surf_plan\", \"messages_income_x\":\"surf_messages_income\",\"plan_name_y\":\"ultimate_plan\",\"messages_income_y\":\"ultimate_income_messages\"}\n",
    "columns_names_internet = {\"plan_name_x\":\"surf_plan\", \"internet_income_x\":\"surf_income_internet\",\"plan_name_y\":\"ultimate_plan\",\"internet_income_y\":\"ultimate_income_internet\"}\n",
    "\n",
    "income_per_month_calls = income_per_month_calls.rename(columns=columns_names_calls)\n",
    "income_per_month_messages = income_per_month_messages.rename(columns=columns_names_messages)\n",
    "income_per_month_internet = income_per_month_internet.rename(columns=columns_names_internet)\n",
    "\n",
    "income_per_month_calls.plot(\n",
    "    kind='bar',\n",
    "    x='month',\n",
    "    xlabel='Meses',\n",
    "    ylabel='Cantidad de ingresos',\n",
    "    title=\"Cantidad de ingresos de llamadas por cada uno de los planes\"\n",
    ")\n",
    "plt.legend(['Surf','Ultimate'])\n",
    "plt.show()\n",
    "\n",
    "income_per_month_messages.plot(\n",
    "    kind='bar',\n",
    "    x='month',\n",
    "    xlabel='Meses',\n",
    "    ylabel='Cantidad de ingresos',\n",
    "    title=\"Cantidad de ingresos de mensajes por cada uno de los planes\"\n",
    ")\n",
    "plt.legend(['Surf','Ultimate'])\n",
    "plt.show()\n",
    "income_per_month_internet.plot(\n",
    "    kind='bar',\n",
    "    x='month',\n",
    "    xlabel='Meses',\n",
    "    ylabel='Cantidad de ingresos',\n",
    "    title=\"Cantidad de ingresos de uso de internet por cada uno de los planes\"\n",
    ")\n",
    "plt.legend(['Surf','Ultimate'])\n",
    "plt.show()"
   ]
  },
  {
   "cell_type": "code",
   "execution_count": 44,
   "metadata": {
    "id": "0Y1v8ZUz0q1P"
   },
   "outputs": [
    {
     "data": {
      "text/plain": [
       "<AxesSubplot:xlabel='minutes_income', ylabel='Count'>"
      ]
     },
     "execution_count": 44,
     "metadata": {},
     "output_type": "execute_result"
    },
    {
     "data": {
      "image/png": "[encoded data removed]",
      "text/plain": [
       "<Figure size 432x288 with 1 Axes>"
      ]
     },
     "metadata": {
      "needs_background": "light"
     },
     "output_type": "display_data"
    }
   ],
   "source": [
    "\n",
    "sns.histplot(data = df_user_income, x='minutes_income', hue='plan_name')"
   ]
  },
  {
   "cell_type": "code",
   "execution_count": 45,
   "metadata": {},
   "outputs": [
    {
     "data": {
      "text/plain": [
       "<AxesSubplot:xlabel='messages_income', ylabel='Count'>"
      ]
     },
     "execution_count": 45,
     "metadata": {},
     "output_type": "execute_result"
    },
    {
     "data": {
      "image/png": "[encoded data removed]",
      "text/plain": [
       "<Figure size 432x288 with 1 Axes>"
      ]
     },
     "metadata": {
      "needs_background": "light"
     },
     "output_type": "display_data"
    }
   ],
   "source": [
    "sns.histplot(data = df_user_income, x='messages_income', hue='plan_name')"
   ]
  },
  {
   "cell_type": "code",
   "execution_count": 46,
   "metadata": {},
   "outputs": [
    {
     "data": {
      "text/plain": [
       "<AxesSubplot:xlabel='internet_income', ylabel='Count'>"
      ]
     },
     "execution_count": 46,
     "metadata": {},
     "output_type": "execute_result"
    },
    {
     "data": {
      "image/png": "[encoded data removed]",
      "text/plain": [
       "<Figure size 432x288 with 1 Axes>"
      ]
     },
     "metadata": {
      "needs_background": "light"
     },
     "output_type": "display_data"
    }
   ],
   "source": [
    "sns.histplot(data = df_user_income, x='internet_income', hue='plan_name')"
   ]
  },
  {
   "cell_type": "code",
   "execution_count": 47,
   "metadata": {
    "id": "bYmwxyVh0q1P"
   },
   "outputs": [
    {
     "data": {
      "text/plain": [
       "<AxesSubplot:title={'center':'minutes_income'}, xlabel='plan_name'>"
      ]
     },
     "execution_count": 47,
     "metadata": {},
     "output_type": "execute_result"
    },
    {
     "data": {
      "image/png": "[encoded data removed]",
      "text/plain": [
       "<Figure size 432x288 with 1 Axes>"
      ]
     },
     "metadata": {
      "needs_background": "light"
     },
     "output_type": "display_data"
    }
   ],
   "source": [
    "df_user_income.boxplot(column='minutes_income', by='plan_name')"
   ]
  },
  {
   "cell_type": "code",
   "execution_count": 48,
   "metadata": {},
   "outputs": [
    {
     "data": {
      "text/plain": [
       "<AxesSubplot:title={'center':'messages_income'}, xlabel='plan_name'>"
      ]
     },
     "execution_count": 48,
     "metadata": {},
     "output_type": "execute_result"
    },
    {
     "data": {
      "image/png": "[encoded data removed]",
      "text/plain": [
       "<Figure size 432x288 with 1 Axes>"
      ]
     },
     "metadata": {
      "needs_background": "light"
     },
     "output_type": "display_data"
    }
   ],
   "source": [
    "df_user_income.boxplot(column='messages_income', by='plan_name')"
   ]
  },
  {
   "cell_type": "code",
   "execution_count": 49,
   "metadata": {},
   "outputs": [
    {
     "data": {
      "text/plain": [
       "<AxesSubplot:title={'center':'internet_income'}, xlabel='plan_name'>"
      ]
     },
     "execution_count": 49,
     "metadata": {},
     "output_type": "execute_result"
    },
    {
     "data": {
      "image/png": "[encoded data removed]",
      "text/plain": [
       "<Figure size 432x288 with 1 Axes>"
      ]
     },
     "metadata": {
      "needs_background": "light"
     },
     "output_type": "display_data"
    }
   ],
   "source": [
    "df_user_income.boxplot(column='internet_income', by='plan_name')"
   ]
  },
  {
   "cell_type": "markdown",
   "metadata": {
    "id": "KAFidcXZ0q1P"
   },
   "source": [
    "\n",
    "\n",
    "Los usuarios del plan surf son quienes generan ingresos más grandes superando los límites de su plan y teniendo que pagar cargos extras por cada llamada, mensaje o gb superado."
   ]
  },
  {
   "cell_type": "markdown",
   "metadata": {
    "id": "ajJ7VKeI0q1Q"
   },
   "source": [
    "## Prueba las hipótesis estadísticas"
   ]
  },
  {
   "cell_type": "code",
   "execution_count": 50,
   "metadata": {
    "id": "nFoPNlPq0q1R"
   },
   "outputs": [
    {
     "name": "stdout",
     "output_type": "stream",
     "text": [
      "La hipótesis nula sugiere que no hay una diferencia estadísticamente significativa en el ingreso promedio entre los usuarios de las tarifas Ultimate y Surf.\n",
      "La hipótesis alternativa sugiere que hay una diferencia estadísticamente significativa en el ingreso promedio entre los usuarios de las tarifas Ultimate y Surf.\n",
      "Valor p: 2.274545558396869e-25\n",
      "Rechazamos la hipotesis nula\n"
     ]
    }
   ],
   "source": [
    "# Prueba las hipótesis\n",
    "print(\"La hipótesis nula sugiere que no hay una diferencia estadísticamente significativa en el ingreso promedio entre los usuarios de las tarifas Ultimate y Surf.\")\n",
    "print(\"La hipótesis alternativa sugiere que hay una diferencia estadísticamente significativa en el ingreso promedio entre los usuarios de las tarifas Ultimate y Surf.\")\n",
    "\n",
    "df_surf = df_user_income[df_user_income['plan_name'] == 'surf']['total_income']\n",
    "df_ultimate = df_user_income[df_user_income['plan_name'] == 'ultimate']['total_income']\n",
    "\n",
    "result = stats.ttest_ind(df_surf, df_ultimate, equal_var=False, alternative='two-sided')\n",
    "\n",
    "print(\"Valor p:\", result.pvalue)\n",
    "\n",
    "alpha = 0.05\n",
    "\n",
    "if(result.pvalue < alpha):\n",
    "    print(\"Rechazamos la hipotesis nula\")\n",
    "else:\n",
    "    print(\"No se puede rechazar la hipotesis nula\")"
   ]
  },
  {
   "cell_type": "code",
   "execution_count": 51,
   "metadata": {
    "id": "Cqcj7wrZ0q1S"
   },
   "outputs": [
    {
     "name": "stdout",
     "output_type": "stream",
     "text": [
      "La hipótesis nula establece que no hay diferencia significativa en el ingreso promedio entre los usuarios en el área de Nueva York-Nueva Jersey y los usuarios en otras regiones.\n",
      "La hipótesis alternativa sugiere que hay una diferencia significativa en el ingreso promedio entre los usuarios en el área de Nueva York-Nueva Jersey y los usuarios en otras regiones.\n",
      "\n",
      "El valor p es:  0.01883167260438131\n",
      "Se rechaza la hipotesis\n"
     ]
    }
   ],
   "source": [
    "# Prueba las hipótesis\n",
    "print(\"La hipótesis nula establece que no hay diferencia significativa en el ingreso promedio entre los usuarios en el área de Nueva York-Nueva Jersey y los usuarios en otras regiones.\")\n",
    "print(\"La hipótesis alternativa sugiere que hay una diferencia significativa en el ingreso promedio entre los usuarios en el área de Nueva York-Nueva Jersey y los usuarios en otras regiones.\")\n",
    "\n",
    "print(\"\")\n",
    "df_njny_users = df_user_income[df_user_income['city'].str.contains(\"NY-NJ\")]['total_income']\n",
    "\n",
    "df_other_users = df_user_income[~df_user_income['city'].str.contains(\"NY-NJ\")]['total_income']\n",
    "\n",
    "result = stats.ttest_ind(df_njny_users, df_other_users, equal_var=False, alternative='two-sided')\n",
    "\n",
    "print(\"El valor p es: \", result.pvalue)\n",
    "\n",
    "if(result.pvalue < alpha):\n",
    "    print(\"Se rechaza la hipotesis\")\n",
    "else:\n",
    "    print(\"No se puede rechazar la hipotesis\")\n"
   ]
  },
  {
   "cell_type": "markdown",
   "metadata": {},
   "source": [
    "<div class=\"alert alert-block alert-info\">\n",
    "<b>Respuesta del estudiante</b> <a class=\"tocSkip\"></a>\n",
    "    \n",
    "¿En este caso qué podría faltar en este apartado?\n",
    "</div>"
   ]
  },
  {
   "cell_type": "markdown",
   "metadata": {
    "id": "bbTR8UQO0q1T"
   },
   "source": [
    "## Conclusión general\n",
    "\n",
    "\n",
    "1.- Se valida que los usuarios dentro del plan surf tienen a ser quienes generan más ingresos superando el límite gratuito que les proporciona su plan\n",
    "2.- Se tuvo que unificar toda la información de los usuarios con los datos relevantes referentes a su plan, cargos extras, total de consumo y el limite gratuito del plan, esto facilitó el analisis y el filtrado de la información.\n",
    "Se optó por realizar pruebas \n",
    "3.- Para probar las hipotesis se realizó con pruebas de dos colas ya que nos interesa saber la diferencia entre ambos grupos de población, en este caso los usuarios de planes surf y ultimate así como de un área u otra.\n",
    "4.- Es imporante poder realizar la agrupación de datos específicos de acuerdo al análisis que se necesita realizar"
   ]
  }
 ],
 "metadata": {
  "ExecuteTimeLog": [
   {
    "duration": 828,
    "start_time": "2021-11-16T09:21:11.304Z"
   },
   {
    "duration": 893,
    "start_time": "2021-11-16T09:21:17.728Z"
   },
   {
    "duration": 1150,
    "start_time": "2021-11-16T09:21:29.568Z"
   },
   {
    "duration": 3,
    "start_time": "2021-11-16T09:24:14.495Z"
   },
   {
    "duration": 120,
    "start_time": "2021-11-16T09:24:46.630Z"
   },
   {
    "duration": 3,
    "start_time": "2021-11-16T09:28:27.882Z"
   },
   {
    "duration": 4,
    "start_time": "2021-11-16T09:29:54.281Z"
   },
   {
    "duration": 3,
    "start_time": "2021-11-16T09:30:45.936Z"
   },
   {
    "duration": 4,
    "start_time": "2021-11-16T09:31:06.300Z"
   },
   {
    "duration": 113,
    "start_time": "2021-11-16T09:31:37.208Z"
   },
   {
    "duration": 143,
    "start_time": "2021-11-16T09:31:48.656Z"
   },
   {
    "duration": 98,
    "start_time": "2021-11-16T09:31:55.678Z"
   },
   {
    "duration": 3,
    "start_time": "2021-11-16T09:32:08.535Z"
   },
   {
    "duration": 111,
    "start_time": "2021-11-16T09:32:10.120Z"
   },
   {
    "duration": 3,
    "start_time": "2021-11-16T09:32:15.732Z"
   },
   {
    "duration": 4,
    "start_time": "2021-11-16T09:32:29.423Z"
   },
   {
    "duration": 3,
    "start_time": "2021-11-16T10:03:03.074Z"
   },
   {
    "duration": 3,
    "start_time": "2021-11-16T10:10:01.288Z"
   },
   {
    "duration": 3,
    "start_time": "2021-11-16T10:10:46.923Z"
   },
   {
    "duration": 121,
    "start_time": "2021-11-16T10:37:46.494Z"
   },
   {
    "duration": 125,
    "start_time": "2021-11-16T10:38:20.632Z"
   },
   {
    "duration": 112,
    "start_time": "2021-11-16T10:46:53.001Z"
   },
   {
    "duration": 110,
    "start_time": "2021-11-16T10:48:25.775Z"
   },
   {
    "duration": 3,
    "start_time": "2021-11-16T10:50:18.720Z"
   },
   {
    "duration": 4,
    "start_time": "2021-11-16T10:50:37.649Z"
   },
   {
    "duration": 2,
    "start_time": "2021-11-16T10:50:51.884Z"
   },
   {
    "duration": 3,
    "start_time": "2021-11-16T10:51:56.237Z"
   },
   {
    "duration": 101,
    "start_time": "2021-11-16T10:53:13.791Z"
   },
   {
    "duration": 3,
    "start_time": "2021-11-16T10:55:59.186Z"
   },
   {
    "duration": 3,
    "start_time": "2021-11-16T10:56:10.751Z"
   },
   {
    "duration": 3,
    "start_time": "2021-11-16T10:56:49.038Z"
   },
   {
    "duration": 3,
    "start_time": "2021-11-16T10:56:49.174Z"
   },
   {
    "duration": 4,
    "start_time": "2021-11-16T10:56:49.414Z"
   },
   {
    "duration": 3,
    "start_time": "2021-11-16T10:56:49.680Z"
   },
   {
    "duration": 3,
    "start_time": "2021-11-16T10:56:50.370Z"
   },
   {
    "duration": 114,
    "start_time": "2021-11-16T10:59:34.518Z"
   },
   {
    "duration": 3,
    "start_time": "2021-11-16T11:01:41.201Z"
   },
   {
    "duration": 116,
    "start_time": "2021-11-16T11:01:48.754Z"
   },
   {
    "duration": 3,
    "start_time": "2021-11-16T11:02:16.685Z"
   },
   {
    "duration": 3,
    "start_time": "2021-11-16T11:02:19.479Z"
   },
   {
    "duration": 3,
    "start_time": "2021-11-16T11:02:47.067Z"
   },
   {
    "duration": 3,
    "start_time": "2021-11-16T11:02:49.353Z"
   },
   {
    "duration": 3,
    "start_time": "2021-11-16T11:03:07.835Z"
   },
   {
    "duration": 3,
    "start_time": "2021-11-16T11:03:07.953Z"
   },
   {
    "duration": 112,
    "start_time": "2021-11-16T11:07:52.072Z"
   },
   {
    "duration": 187,
    "start_time": "2021-11-16T11:09:23.468Z"
   },
   {
    "duration": 4,
    "start_time": "2021-11-16T11:10:01.455Z"
   },
   {
    "duration": 3,
    "start_time": "2021-11-16T11:10:05.069Z"
   },
   {
    "duration": 4,
    "start_time": "2021-11-16T11:10:13.376Z"
   },
   {
    "duration": 3,
    "start_time": "2021-11-16T11:10:14.434Z"
   },
   {
    "duration": 3,
    "start_time": "2021-11-16T11:10:22.853Z"
   },
   {
    "duration": 4,
    "start_time": "2021-11-16T11:27:29.279Z"
   },
   {
    "duration": 4,
    "start_time": "2021-11-16T11:29:08.919Z"
   },
   {
    "duration": 118,
    "start_time": "2021-11-16T11:29:46.703Z"
   },
   {
    "duration": 437,
    "start_time": "2021-11-16T11:36:02.181Z"
   },
   {
    "duration": 157,
    "start_time": "2021-11-16T11:36:14.388Z"
   },
   {
    "duration": 207,
    "start_time": "2021-11-16T11:47:15.898Z"
   },
   {
    "duration": 3,
    "start_time": "2021-11-16T11:53:52.092Z"
   },
   {
    "duration": 3,
    "start_time": "2021-11-16T11:53:52.236Z"
   },
   {
    "duration": 3,
    "start_time": "2021-11-16T11:59:12.005Z"
   },
   {
    "duration": 112,
    "start_time": "2021-11-16T12:00:33.446Z"
   },
   {
    "duration": 3,
    "start_time": "2021-11-16T12:02:14.453Z"
   },
   {
    "duration": 3,
    "start_time": "2021-11-16T12:02:39.512Z"
   },
   {
    "duration": 106,
    "start_time": "2021-11-16T12:03:03.460Z"
   },
   {
    "duration": 3,
    "start_time": "2021-11-17T20:37:21.139Z"
   },
   {
    "duration": 3,
    "start_time": "2021-11-17T20:37:22.229Z"
   },
   {
    "duration": 3,
    "start_time": "2021-11-17T20:38:38.806Z"
   },
   {
    "duration": 3,
    "start_time": "2021-11-17T20:38:41.958Z"
   },
   {
    "duration": 3,
    "start_time": "2021-11-17T20:43:46.551Z"
   },
   {
    "duration": 4,
    "start_time": "2021-11-17T20:58:21.835Z"
   },
   {
    "duration": 3,
    "start_time": "2021-11-17T20:59:21.872Z"
   },
   {
    "duration": 4,
    "start_time": "2021-11-17T20:59:45.352Z"
   },
   {
    "duration": 4,
    "start_time": "2021-11-17T20:59:49.646Z"
   },
   {
    "duration": 159,
    "start_time": "2021-11-17T21:02:26.949Z"
   },
   {
    "duration": 3,
    "start_time": "2021-11-17T21:03:53.461Z"
   },
   {
    "duration": 3,
    "start_time": "2021-11-17T21:03:53.694Z"
   },
   {
    "duration": 3,
    "start_time": "2021-11-17T21:05:28.145Z"
   },
   {
    "duration": 116,
    "start_time": "2021-11-17T21:05:57.787Z"
   },
   {
    "duration": 3,
    "start_time": "2021-11-17T21:06:37.993Z"
   },
   {
    "duration": 3,
    "start_time": "2021-11-17T21:06:38.261Z"
   },
   {
    "duration": 3,
    "start_time": "2021-11-17T21:11:54.358Z"
   },
   {
    "duration": 3,
    "start_time": "2021-11-17T21:12:43.846Z"
   },
   {
    "duration": 4,
    "start_time": "2021-11-17T21:13:08.773Z"
   },
   {
    "duration": 3,
    "start_time": "2021-11-17T21:14:44.441Z"
   },
   {
    "duration": 3,
    "start_time": "2021-11-17T21:15:42.059Z"
   },
   {
    "duration": 4,
    "start_time": "2021-11-17T21:15:51.995Z"
   },
   {
    "duration": 3,
    "start_time": "2021-11-17T21:15:53.923Z"
   },
   {
    "duration": 3,
    "start_time": "2021-11-17T21:15:55.282Z"
   },
   {
    "duration": 3,
    "start_time": "2021-11-17T21:16:28.492Z"
   },
   {
    "duration": 3,
    "start_time": "2021-11-17T21:16:32.603Z"
   },
   {
    "duration": 3,
    "start_time": "2021-11-17T21:17:06.941Z"
   },
   {
    "duration": 98,
    "start_time": "2021-11-17T21:18:05.733Z"
   },
   {
    "duration": 4,
    "start_time": "2021-11-17T21:21:35.255Z"
   },
   {
    "duration": 3,
    "start_time": "2021-11-17T21:21:37.804Z"
   },
   {
    "duration": 4,
    "start_time": "2021-11-17T21:23:06.071Z"
   },
   {
    "duration": 3,
    "start_time": "2021-11-17T21:23:24.799Z"
   },
   {
    "duration": 3,
    "start_time": "2021-11-17T21:23:32.591Z"
   },
   {
    "duration": 98,
    "start_time": "2021-11-17T21:28:31.559Z"
   },
   {
    "duration": 3,
    "start_time": "2021-11-17T21:28:45.448Z"
   },
   {
    "duration": 3,
    "start_time": "2021-11-17T21:29:17.303Z"
   },
   {
    "duration": 3,
    "start_time": "2021-11-17T21:29:29.617Z"
   },
   {
    "duration": 3,
    "start_time": "2021-11-17T21:29:32.681Z"
   },
   {
    "duration": 3,
    "start_time": "2021-11-17T21:36:11.474Z"
   },
   {
    "duration": 3,
    "start_time": "2021-11-17T21:36:14.791Z"
   },
   {
    "duration": 3,
    "start_time": "2021-11-17T21:36:53.943Z"
   },
   {
    "duration": 3,
    "start_time": "2021-11-17T21:36:56.165Z"
   },
   {
    "duration": 4,
    "start_time": "2021-11-17T21:37:16.590Z"
   },
   {
    "duration": 3,
    "start_time": "2021-11-17T21:37:22.702Z"
   },
   {
    "duration": 4,
    "start_time": "2021-11-17T21:38:03.479Z"
   },
   {
    "duration": 3,
    "start_time": "2021-11-17T21:38:08.601Z"
   },
   {
    "duration": 3,
    "start_time": "2021-11-17T21:38:12.928Z"
   },
   {
    "duration": 3,
    "start_time": "2021-11-17T21:38:48.896Z"
   },
   {
    "duration": 2,
    "start_time": "2021-11-17T21:38:49.171Z"
   },
   {
    "duration": 4,
    "start_time": "2021-11-17T21:39:57.889Z"
   },
   {
    "duration": 3,
    "start_time": "2021-11-17T21:39:58.057Z"
   },
   {
    "duration": 3,
    "start_time": "2021-11-17T21:41:20.108Z"
   },
   {
    "duration": 3,
    "start_time": "2021-11-17T21:41:20.629Z"
   },
   {
    "duration": 3,
    "start_time": "2021-11-17T21:42:49.136Z"
   },
   {
    "duration": 3,
    "start_time": "2021-11-17T21:43:15.137Z"
   },
   {
    "duration": 4,
    "start_time": "2021-11-17T21:43:16.766Z"
   },
   {
    "duration": 4,
    "start_time": "2021-11-17T21:43:31.711Z"
   },
   {
    "duration": 3,
    "start_time": "2021-11-17T21:43:36.312Z"
   },
   {
    "duration": 4,
    "start_time": "2021-11-17T21:45:08.825Z"
   },
   {
    "duration": 4,
    "start_time": "2021-11-17T21:45:10.119Z"
   },
   {
    "duration": 4,
    "start_time": "2021-11-17T21:45:13.748Z"
   },
   {
    "duration": 3,
    "start_time": "2021-11-17T21:45:22.219Z"
   },
   {
    "duration": 3,
    "start_time": "2021-11-17T21:45:33.412Z"
   },
   {
    "duration": 2,
    "start_time": "2021-11-17T21:46:01.885Z"
   },
   {
    "duration": 3,
    "start_time": "2021-11-17T21:46:03.628Z"
   },
   {
    "duration": 107,
    "start_time": "2021-11-17T21:47:32.512Z"
   },
   {
    "duration": 103,
    "start_time": "2021-11-17T21:50:36.243Z"
   },
   {
    "duration": 3,
    "start_time": "2021-11-18T06:28:31.440Z"
   },
   {
    "duration": 3,
    "start_time": "2021-11-18T06:29:00.168Z"
   },
   {
    "duration": 3,
    "start_time": "2021-11-18T06:31:27.008Z"
   },
   {
    "duration": 2,
    "start_time": "2021-11-18T06:35:34.288Z"
   },
   {
    "duration": 2,
    "start_time": "2021-11-18T06:38:04.527Z"
   }
  ],
  "colab": {
   "provenance": []
  },
  "kernelspec": {
   "display_name": "Python 3 (ipykernel)",
   "language": "python",
   "name": "python3"
  },
  "language_info": {
   "codemirror_mode": {
    "name": "ipython",
    "version": 3
   },
   "file_extension": ".py",
   "mimetype": "text/x-python",
   "name": "python",
   "nbconvert_exporter": "python",
   "pygments_lexer": "ipython3",
   "version": "3.9.19"
  },
  "toc": {
   "base_numbering": 1,
   "nav_menu": {},
   "number_sections": true,
   "sideBar": true,
   "skip_h1_title": false,
   "title_cell": "Table of Contents",
   "title_sidebar": "Contents",
   "toc_cell": false,
   "toc_position": {
    "height": "calc(100% - 180px)",
    "left": "10px",
    "top": "150px",
    "width": "165px"
   },
   "toc_section_display": true,
   "toc_window_display": true
  }
 },
 "nbformat": 4,
 "nbformat_minor": 1
}
